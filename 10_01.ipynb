{
 "cells": [
  {
   "cell_type": "markdown",
   "id": "4368bfb3",
   "metadata": {},
   "source": [
    "# Урок 10. Дисперсионный анализ\n",
    "Провести дисперсионный анализ для определения того, есть ли различия среднего роста среди взрослых футболистов, хоккеистов и штангистов.   \n",
    "Даны значения роста в трех группах случайно выбранных спортсменов:   \n",
    "Футболисты: 173, 175, 180, 178, 177, 185, 183, 182.   \n",
    "Хоккеисты: 177, 179, 180, 188, 177, 172, 171, 184, 180.   \n",
    "Штангисты: 172, 173, 169, 177, 166, 180, 178, 177, 172, 166, 170."
   ]
  },
  {
   "cell_type": "code",
   "execution_count": 3,
   "id": "8c8c6593",
   "metadata": {},
   "outputs": [],
   "source": [
    "import numpy as np\n",
    "import pandas as pd\n",
    "from scipy import stats"
   ]
  },
  {
   "cell_type": "markdown",
   "id": "5c986c43",
   "metadata": {},
   "source": [
    "Нулевая гипотеза. Нет различий среднего роста среди взрослых футболистов, хоккеистов и штангистов:   \n",
    "$H0 : \\mu_1=\\mu_2=\\mu_3$"
   ]
  },
  {
   "cell_type": "markdown",
   "id": "d6f93a86",
   "metadata": {},
   "source": [
    "Альтернативная гипотеза. Есть различия среднего роста среди взрослых футболистов, хоккеистов и штангистов:     \n",
    "$H1: \\mu_1\\neq\\mu_2\\neq\\mu_3$"
   ]
  },
  {
   "cell_type": "code",
   "execution_count": 5,
   "id": "4586f8ec",
   "metadata": {},
   "outputs": [],
   "source": [
    "football=np.array([173, 175, 180, 178, 177, 185, 183, 182])\n",
    "hockey=np.array([177, 179, 180, 188, 177, 172, 171, 184, 180])\n",
    "weightlifter=np.array([172, 173, 169, 177, 166, 180, 178, 177, 172, 166, 170])"
   ]
  },
  {
   "cell_type": "markdown",
   "id": "7c253ca2",
   "metadata": {},
   "source": [
    "Однофакторный дисперсионный анализ"
   ]
  },
  {
   "cell_type": "code",
   "execution_count": 7,
   "id": "d6af2307",
   "metadata": {},
   "outputs": [
    {
     "data": {
      "text/plain": [
       "F_onewayResult(statistic=5.500053450812596, pvalue=0.010482206918698693)"
      ]
     },
     "execution_count": 7,
     "metadata": {},
     "output_type": "execute_result"
    }
   ],
   "source": [
    "stats.f_oneway(football, hockey, weightlifter)"
   ]
  },
  {
   "cell_type": "markdown",
   "id": "ef2f8e21",
   "metadata": {},
   "source": [
    "$pvalue=0.01048$   \n",
    "При $\\alpha=0.05$ - нулевая гипотеза отвергается: различия среднего роста среди взрослых футболистов, хоккеистов и штангистов есть.  \n",
    "При $\\alpha=0.01$ - нет различий среднего роста среди взрослых футболистов, хоккеистов и штангистов."
   ]
  }
 ],
 "metadata": {
  "kernelspec": {
   "display_name": "Python 3 (ipykernel)",
   "language": "python",
   "name": "python3"
  },
  "language_info": {
   "codemirror_mode": {
    "name": "ipython",
    "version": 3
   },
   "file_extension": ".py",
   "mimetype": "text/x-python",
   "name": "python",
   "nbconvert_exporter": "python",
   "pygments_lexer": "ipython3",
   "version": "3.10.8"
  }
 },
 "nbformat": 4,
 "nbformat_minor": 5
}
